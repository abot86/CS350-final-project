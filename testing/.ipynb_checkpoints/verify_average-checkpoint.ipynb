{
 "cells": [
  {
   "cell_type": "code",
   "execution_count": 6,
   "id": "c27b58af",
   "metadata": {},
   "outputs": [
    {
     "name": "stdout",
     "output_type": "stream",
     "text": [
      "Random array: [49 17  1 66 58 58 59 46 61 73]\n",
      "Initial Average:  48.8\n",
      "diff:  0.0\n",
      "data_diff:  45\n",
      "diff:  0.0\n",
      "data_diff:  32\n",
      "diff:  0.0\n",
      "data_diff:  83\n",
      "diff:  -7.105427357601002e-15\n",
      "data_diff:  -56\n",
      "diff:  0.0\n",
      "data_diff:  34\n"
     ]
    }
   ],
   "source": [
    "import numpy as np\n",
    "\n",
    "# Parameters\n",
    "array_size = 10  # Size of the array\n",
    "lower_bound = 0  # Minimum value for random numbers\n",
    "upper_bound = 100  # Maximum value for random numbers\n",
    "\n",
    "# Generate array of random numbers\n",
    "random_array = np.random.randint(lower_bound, upper_bound, size=array_size)\n",
    "\n",
    "avg_init = np.mean(random_array)\n",
    "\n",
    "print(\"Random array:\", random_array)\n",
    "print(\"Initial Average: \", avg_init)\n",
    "\n",
    "for x in range(5):\n",
    "    rando = np.random.randint(lower_bound, upper_bound)\n",
    "    \n",
    "    # part 1: calculate average\n",
    "    data_diff = rando-random_array[x]\n",
    "    data_diff_weighted = data_diff / 10\n",
    "    avg_calculated = avg_init + data_diff_weighted\n",
    "    \n",
    "    # part 2: overwrite average\n",
    "    random_array[x] = rando\n",
    "    avg_init = np.mean(random_array)\n",
    "    \n",
    "    # Print (diff: 0 IS GOOD)\n",
    "    bad_num = avg_calculated - avg_init\n",
    "    print(\"diff: \", bad_num)\n",
    "    print(\"data_diff: \", data_diff)\n",
    "    "
   ]
  }
 ],
 "metadata": {
  "kernelspec": {
   "display_name": "Python 3 (ipykernel)",
   "language": "python",
   "name": "python3"
  },
  "language_info": {
   "codemirror_mode": {
    "name": "ipython",
    "version": 3
   },
   "file_extension": ".py",
   "mimetype": "text/x-python",
   "name": "python",
   "nbconvert_exporter": "python",
   "pygments_lexer": "ipython3",
   "version": "3.10.11"
  }
 },
 "nbformat": 4,
 "nbformat_minor": 5
}
