{
 "cells": [
  {
   "cell_type": "code",
   "execution_count": 5,
   "id": "4c79f414",
   "metadata": {},
   "outputs": [
    {
     "name": "stdout",
     "output_type": "stream",
     "text": [
      "Total Difference:  0.0\n"
     ]
    }
   ],
   "source": [
    "import numpy as np\n",
    "\n",
    "# Parameters\n",
    "array_size = 128  # Size of the array\n",
    "\n",
    "# Generate array of random numbers\n",
    "lower_bound = 0  # Minimum \n",
    "upper_bound = 100  # Maximum\n",
    "random_array = np.random.randint(lower_bound, upper_bound, size=array_size)\n",
    "\n",
    "\n",
    "avg_running = np.mean(random_array)\n",
    "total_diff = 0\n",
    "\n",
    "for i in range(1000):\n",
    "    x = i % 10\n",
    "    rando = np.random.randint(lower_bound, upper_bound)\n",
    "    \n",
    "    # part 1: calculate average\n",
    "    data_diff = rando-random_array[x]\n",
    "    data_diff_weighted = data_diff / array_size\n",
    "    avg_calculated = avg_running + data_diff_weighted\n",
    "    \n",
    "    # part 2: overwrite average\n",
    "    random_array[x] = rando\n",
    "    avg_running = np.mean(random_array)\n",
    "    \n",
    "    # Print - to remove\n",
    "    bad_num = avg_calculated - avg_running\n",
    "    total_diff = total_diff + abs(bad_num)\n",
    "\n",
    "print(\"Total Difference: \", total_diff)"
   ]
  }
 ],
 "metadata": {
  "kernelspec": {
   "display_name": "Python 3 (ipykernel)",
   "language": "python",
   "name": "python3"
  },
  "language_info": {
   "codemirror_mode": {
    "name": "ipython",
    "version": 3
   },
   "file_extension": ".py",
   "mimetype": "text/x-python",
   "name": "python",
   "nbconvert_exporter": "python",
   "pygments_lexer": "ipython3",
   "version": "3.10.11"
  }
 },
 "nbformat": 4,
 "nbformat_minor": 5
}
