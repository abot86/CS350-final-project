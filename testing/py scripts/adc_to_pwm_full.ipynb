{
 "cells": [
  {
   "cell_type": "code",
   "execution_count": 18,
   "id": "efa4e49e",
   "metadata": {},
   "outputs": [
    {
     "name": "stdout",
     "output_type": "stream",
     "text": [
      "print\n",
      "print\n",
      "print\n",
      "print\n",
      "print\n",
      "print\n"
     ]
    }
   ],
   "source": [
    "import numpy as np\n",
    "\n",
    "count = 0\n",
    "\n",
    "THRESH_C = 3          # THRESH_C := x\n",
    "THRESH_DIFF = 2       # THRESH_DIFF := THRESH_C <- should be smtg lower like 2?\n",
    "THRESH_PWM = 5\n",
    "\n",
    "PWM_out = int(0)\n",
    "diff = int(0)\n",
    "\n",
    "total_diff = 0\n",
    "curr = 1\n",
    "prev = curr - 1\n",
    "\n",
    "\n",
    "# Create an array of integers\n",
    "data = np.array([1, 1, 1, 1, 1, 20, 18, 1, 1, 1, 1, 18, 40, 25, 13, 0, 1, 1, 1, 1, 3, 2, 1, 1, 1])\n",
    "\n",
    "\n",
    "try:\n",
    "    \n",
    "    while curr<data.size:\n",
    "\n",
    "        while (count<THRESH_C):\n",
    "            # diff calc\n",
    "            diff = abs(data[curr] - data[prev])\n",
    "            total_diff += diff\n",
    "            if (diff<THRESH_DIFF):\n",
    "                count += 1\n",
    "            else:\n",
    "                count = 0\n",
    "            \n",
    "            #increment\n",
    "            curr += 1\n",
    "            prev += 1\n",
    "        # PWM output\n",
    "        if (total_diff<THRESH_PWM):\n",
    "            PWM_out = 0\n",
    "        else:\n",
    "            PWM_out = total_diff\n",
    "        \n",
    "        # output PWM\n",
    "        print(\"print\")\n",
    "        \n",
    "        # reset\n",
    "        diff = abs(data[curr] - data[prev])\n",
    "        if (diff >= THRESH_DIFF):\n",
    "            count = 0\n",
    "            total_diff = 0\n",
    "            diff = 0\n",
    "            \n",
    "        #increment\n",
    "        curr += 1\n",
    "        prev += 1\n",
    "\n",
    "# ctrl-C to interrupt\n",
    "except KeyboardInterrupt:\n",
    "    pass"
   ]
  },
  {
   "cell_type": "code",
   "execution_count": null,
   "id": "38027348",
   "metadata": {},
   "outputs": [],
   "source": []
  }
 ],
 "metadata": {
  "kernelspec": {
   "display_name": "Python 3 (ipykernel)",
   "language": "python",
   "name": "python3"
  },
  "language_info": {
   "codemirror_mode": {
    "name": "ipython",
    "version": 3
   },
   "file_extension": ".py",
   "mimetype": "text/x-python",
   "name": "python",
   "nbconvert_exporter": "python",
   "pygments_lexer": "ipython3",
   "version": "3.10.11"
  }
 },
 "nbformat": 4,
 "nbformat_minor": 5
}
