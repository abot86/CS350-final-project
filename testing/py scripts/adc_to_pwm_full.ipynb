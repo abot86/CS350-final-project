{
 "cells": [
  {
   "cell_type": "code",
   "execution_count": 8,
   "id": "efa4e49e",
   "metadata": {},
   "outputs": [
    {
     "name": "stdout",
     "output_type": "stream",
     "text": [
      "0 5 0\n",
      "0 5 0\n",
      "0 5 0\n",
      "19 5 19\n"
     ]
    },
    {
     "ename": "IndexError",
     "evalue": "index 11 is out of bounds for axis 0 with size 11",
     "output_type": "error",
     "traceback": [
      "\u001b[1;31m---------------------------------------------------------------------------\u001b[0m",
      "\u001b[1;31mIndexError\u001b[0m                                Traceback (most recent call last)",
      "Cell \u001b[1;32mIn[8], line 47\u001b[0m\n\u001b[0;32m     44\u001b[0m \u001b[38;5;28mprint\u001b[39m(total_diff, THRESH_PWM, PWM_out)\n\u001b[0;32m     46\u001b[0m \u001b[38;5;66;03m# reset\u001b[39;00m\n\u001b[1;32m---> 47\u001b[0m diff \u001b[38;5;241m=\u001b[39m \u001b[38;5;28mabs\u001b[39m(\u001b[43mdata\u001b[49m\u001b[43m[\u001b[49m\u001b[43mcurr\u001b[49m\u001b[43m]\u001b[49m \u001b[38;5;241m-\u001b[39m data[prev])\n\u001b[0;32m     48\u001b[0m \u001b[38;5;28;01mif\u001b[39;00m (diff \u001b[38;5;241m>\u001b[39m\u001b[38;5;241m=\u001b[39m THRESH_DIFF):\n\u001b[0;32m     49\u001b[0m     count \u001b[38;5;241m=\u001b[39m \u001b[38;5;241m0\u001b[39m\n",
      "\u001b[1;31mIndexError\u001b[0m: index 11 is out of bounds for axis 0 with size 11"
     ]
    }
   ],
   "source": [
    "import numpy as np\n",
    "\n",
    "count = 0\n",
    "\n",
    "THRESH_C = 3          # THRESH_C := x\n",
    "THRESH_DIFF = 10       # THRESH_DIFF := THRESH_C\n",
    "THRESH_PWM = 5\n",
    "\n",
    "PWM_out = int(0)\n",
    "diff = int(0)\n",
    "\n",
    "total_diff = 0\n",
    "curr = 0\n",
    "prev = curr - 1\n",
    "\n",
    "\n",
    "# Create an array of integers\n",
    "data = np.array([1, 1, 1, 1, 1, 20, 18, 1, 1, 1, 1])\n",
    "\n",
    "\n",
    "try:\n",
    "    \n",
    "    while True:\n",
    "\n",
    "        while (count<THRESH_C):\n",
    "            # diff calc\n",
    "            diff = abs(data[curr] - data[prev])\n",
    "            total_diff += diff\n",
    "            if (diff<THRESH_DIFF):\n",
    "                count += 1\n",
    "            else:\n",
    "                count = 0\n",
    "            \n",
    "            #increment\n",
    "            curr += 1\n",
    "            prev += 1\n",
    "        # PWM output\n",
    "        if (total_diff<THRESH_PWM):\n",
    "            PWM_out = 0\n",
    "        else:\n",
    "            PWM_out = total_diff\n",
    "        \n",
    "        # output PWM\n",
    "        print(total_diff, THRESH_PWM, PWM_out)\n",
    "        \n",
    "        # reset\n",
    "        diff = abs(data[curr] - data[prev])\n",
    "        if (diff >= THRESH_DIFF):\n",
    "            count = 0\n",
    "            total_diff = 0\n",
    "            diff = 0\n",
    "            \n",
    "        #increment\n",
    "        curr += 1\n",
    "        prev += 1\n",
    "\n",
    "\n",
    "\n",
    "# ctrl-C to interrupt\n",
    "except KeyboardInterrupt:\n",
    "    pass"
   ]
  },
  {
   "cell_type": "code",
   "execution_count": null,
   "id": "38027348",
   "metadata": {},
   "outputs": [],
   "source": []
  }
 ],
 "metadata": {
  "kernelspec": {
   "display_name": "Python 3 (ipykernel)",
   "language": "python",
   "name": "python3"
  },
  "language_info": {
   "codemirror_mode": {
    "name": "ipython",
    "version": 3
   },
   "file_extension": ".py",
   "mimetype": "text/x-python",
   "name": "python",
   "nbconvert_exporter": "python",
   "pygments_lexer": "ipython3",
   "version": "3.10.11"
  }
 },
 "nbformat": 4,
 "nbformat_minor": 5
}
