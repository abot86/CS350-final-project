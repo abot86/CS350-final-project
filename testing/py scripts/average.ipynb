{
 "cells": [
  {
   "cell_type": "code",
   "execution_count": 3,
   "id": "4c79f414",
   "metadata": {},
   "outputs": [
    {
     "name": "stdout",
     "output_type": "stream",
     "text": [
      "Total Difference:  0.0\n"
     ]
    }
   ],
   "source": [
    "import numpy as np\n",
    "\n",
    "## EVERYTHING TO DO WITH ARRAY INITIALIZATION\n",
    "# Parameters\n",
    "array_size = 1024  # Size of the array\n",
    "\n",
    "# Generate array of random numbers\n",
    "lower_bound = 0  # Minimum \n",
    "upper_bound = 100  # Maximum\n",
    "random_array = np.random.randint(lower_bound, upper_bound, size=array_size)\n",
    "\n",
    "\n",
    "avg_running = np.mean(random_array)\n",
    "total_diff = 0\n",
    "\n",
    "for i in range(10000):\n",
    "    x = i % 10\n",
    "    rando = np.random.randint(lower_bound, upper_bound)\n",
    "    \n",
    "    # calculate average\n",
    "    data_diff = rando-random_array[x]\n",
    "    data_diff_weighted = data_diff / array_size\n",
    "    \n",
    "    # part 2: overwrite\n",
    "    avy_running = avg_running + data_diff_weighted\n",
    "    random_array[x] = rando\n"
   ]
  }
 ],
 "metadata": {
  "kernelspec": {
   "display_name": "Python 3 (ipykernel)",
   "language": "python",
   "name": "python3"
  },
  "language_info": {
   "codemirror_mode": {
    "name": "ipython",
    "version": 3
   },
   "file_extension": ".py",
   "mimetype": "text/x-python",
   "name": "python",
   "nbconvert_exporter": "python",
   "pygments_lexer": "ipython3",
   "version": "3.10.11"
  }
 },
 "nbformat": 4,
 "nbformat_minor": 5
}
